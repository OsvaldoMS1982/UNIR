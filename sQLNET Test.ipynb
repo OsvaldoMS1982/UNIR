{
  "nbformat": 4,
  "nbformat_minor": 0,
  "metadata": {
    "colab": {
      "provenance": [],
      "authorship_tag": "ABX9TyOryYsNBTTcKfKzRObWAL0A",
      "include_colab_link": true
    },
    "kernelspec": {
      "name": "python3",
      "display_name": "Python 3"
    },
    "language_info": {
      "name": "python"
    }
  },
  "cells": [
    {
      "cell_type": "markdown",
      "metadata": {
        "id": "view-in-github",
        "colab_type": "text"
      },
      "source": [
        "<a href=\"https://colab.research.google.com/github/OsvaldoMS1982/UNIR/blob/main/sQLNET%20Test.ipynb\" target=\"_parent\"><img src=\"https://colab.research.google.com/assets/colab-badge.svg\" alt=\"Open In Colab\"/></a>"
      ]
    },
    {
      "cell_type": "code",
      "execution_count": 1,
      "metadata": {
        "colab": {
          "base_uri": "https://localhost:8080/"
        },
        "id": "6iJ232_frZPo",
        "outputId": "6ada29a8-69ba-4406-d4e8-0e30b9c390fc"
      },
      "outputs": [
        {
          "output_type": "stream",
          "name": "stdout",
          "text": [
            "Mounted at /content/drive\n",
            "Google Drive montado. Dataset Spider encontrado.\n"
          ]
        }
      ],
      "source": [
        "# 📌 Montar Google Drive\n",
        "from google.colab import drive\n",
        "import os\n",
        "\n",
        "drive.mount('/content/drive')\n",
        "\n",
        "# Ruta del dataset Spider en Google Drive\n",
        "SPIDER_PATH = \"/content/drive/MyDrive/spider\"\n",
        "assert os.path.exists(SPIDER_PATH), f\"Error: No se encontró la carpeta Spider en {SPIDER_PATH}.\"\n",
        "\n",
        "print(\"Google Drive montado. Dataset Spider encontrado.\")"
      ]
    },
    {
      "cell_type": "code",
      "source": [
        "# 📌 Cargar `dev.json`\n",
        "import json\n",
        "\n",
        "dev_json_path = os.path.join(SPIDER_PATH, \"dev.json\")\n",
        "assert os.path.exists(dev_json_path), f\"Error: {dev_json_path} no existe.\"\n",
        "\n",
        "with open(dev_json_path, \"r\", encoding=\"utf-8\") as f:\n",
        "    spider_data = json.load(f)\n",
        "\n",
        "print(f\"Dataset cargado con {len(spider_data)} ejemplos.\")"
      ],
      "metadata": {
        "colab": {
          "base_uri": "https://localhost:8080/"
        },
        "id": "Zsk6fpferv4w",
        "outputId": "84c31d33-1260-4714-e7b6-aae2d76d02f0"
      },
      "execution_count": 3,
      "outputs": [
        {
          "output_type": "stream",
          "name": "stdout",
          "text": [
            "Dataset cargado con 1034 ejemplos.\n"
          ]
        }
      ]
    }
  ]
}