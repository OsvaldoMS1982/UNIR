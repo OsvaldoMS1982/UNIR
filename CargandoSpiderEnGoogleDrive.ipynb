{
  "nbformat": 4,
  "nbformat_minor": 0,
  "metadata": {
    "colab": {
      "provenance": [],
      "mount_file_id": "1g3uTMz5XXwHEIGf6FWNf29K5jfL6mTk1",
      "authorship_tag": "ABX9TyPVwxPdJExbbNhD83XziXza",
      "include_colab_link": true
    },
    "kernelspec": {
      "name": "python3",
      "display_name": "Python 3"
    },
    "language_info": {
      "name": "python"
    }
  },
  "cells": [
    {
      "cell_type": "markdown",
      "metadata": {
        "id": "view-in-github",
        "colab_type": "text"
      },
      "source": [
        "<a href=\"https://colab.research.google.com/github/OsvaldoMS1982/UNIR/blob/main/CargandoSpiderEnGoogleDrive.ipynb\" target=\"_parent\"><img src=\"https://colab.research.google.com/assets/colab-badge.svg\" alt=\"Open In Colab\"/></a>"
      ]
    },
    {
      "cell_type": "code",
      "source": [
        "from google.colab import drive\n",
        "drive.mount('/content/drive')"
      ],
      "metadata": {
        "colab": {
          "base_uri": "https://localhost:8080/"
        },
        "id": "Jnoodp6FLDqK",
        "outputId": "f7f561e0-6657-4412-98a7-6349cc6eb80a"
      },
      "execution_count": 10,
      "outputs": [
        {
          "output_type": "stream",
          "name": "stdout",
          "text": [
            "Mounted at /content/drive\n"
          ]
        }
      ]
    },
    {
      "cell_type": "code",
      "source": [
        "!git clone https://github.com/taoyds/spider.git"
      ],
      "metadata": {
        "colab": {
          "base_uri": "https://localhost:8080/"
        },
        "id": "LD-Gt_bALNxK",
        "outputId": "a1b38eee-514a-4a9a-e77e-def3cdc00998"
      },
      "execution_count": 11,
      "outputs": [
        {
          "output_type": "stream",
          "name": "stdout",
          "text": [
            "Cloning into 'spider'...\n",
            "remote: Enumerating objects: 386, done.\u001b[K\n",
            "remote: Counting objects: 100% (30/30), done.\u001b[K\n",
            "remote: Compressing objects: 100% (17/17), done.\u001b[K\n",
            "remote: Total 386 (delta 18), reused 15 (delta 13), pack-reused 356 (from 1)\u001b[K\n",
            "Receiving objects: 100% (386/386), 44.93 MiB | 22.31 MiB/s, done.\n",
            "Resolving deltas: 100% (112/112), done.\n"
          ]
        }
      ]
    },
    {
      "cell_type": "code",
      "source": [
        "ls spider"
      ],
      "metadata": {
        "colab": {
          "base_uri": "https://localhost:8080/"
        },
        "id": "Coj6KHQ_LQnq",
        "outputId": "aaf8e113-cba8-445c-aa78-ff16fd7b2975"
      },
      "execution_count": 12,
      "outputs": [
        {
          "output_type": "stream",
          "name": "stdout",
          "text": [
            "\u001b[0m\u001b[01;34mbaselines\u001b[0m/  \u001b[01;34mevaluation_examples\u001b[0m/  evaluation.py  LICENSE  \u001b[01;34mpreprocess\u001b[0m/  process_sql.py  README.md\n"
          ]
        }
      ]
    },
    {
      "cell_type": "code",
      "source": [
        "!mv spider /content/drive/MyDrive/"
      ],
      "metadata": {
        "id": "8w5h4P0rLVxq"
      },
      "execution_count": 13,
      "outputs": []
    },
    {
      "cell_type": "code",
      "source": [
        "import json\n",
        "\n",
        "# Ruta al archivo en Google Drive\n",
        "file_path = \"/content/drive/MyDrive/spider/dev.json\"\n",
        "\n",
        "# Cargar el JSON\n",
        "with open(file_path, \"r\", encoding=\"utf-8\") as f:\n",
        "    spider_data = json.load(f)\n",
        "\n",
        "print(\"Primer elemento del dataset:\", spider_data[0])"
      ],
      "metadata": {
        "colab": {
          "base_uri": "https://localhost:8080/"
        },
        "id": "MyGAlWddLsGS",
        "outputId": "01b61bad-f78d-4eec-e551-1b8a53ec333e"
      },
      "execution_count": 15,
      "outputs": [
        {
          "output_type": "stream",
          "name": "stdout",
          "text": [
            "Primer elemento del dataset: {'db_id': 'concert_singer', 'query': 'SELECT count(*) FROM singer', 'query_toks': ['SELECT', 'count', '(', '*', ')', 'FROM', 'singer'], 'query_toks_no_value': ['select', 'count', '(', '*', ')', 'from', 'singer'], 'question': 'How many singers do we have?', 'question_toks': ['How', 'many', 'singers', 'do', 'we', 'have', '?'], 'sql': {'from': {'table_units': [['table_unit', 1]], 'conds': []}, 'select': [False, [[3, [0, [0, 0, False], None]]]], 'where': [], 'groupBy': [], 'having': [], 'orderBy': [], 'limit': None, 'intersect': None, 'union': None, 'except': None}}\n"
          ]
        }
      ]
    }
  ]
}